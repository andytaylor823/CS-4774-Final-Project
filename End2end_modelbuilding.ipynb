{
 "cells": [
  {
   "cell_type": "code",
   "execution_count": 4,
   "metadata": {},
   "outputs": [],
   "source": [
    "import numpy as np\n",
    "import matplotlib.pyplot as plt\n",
    "import pandas as pd\n",
    "url1 = 'https://raw.githubusercontent.com/andytaylor823/CS-4774-Final-Project/master/expanded_1.csv'\n",
    "url2 = 'https://raw.githubusercontent.com/andytaylor823/CS-4774-Final-Project/master/expanded_2.csv'\n",
    "url3 = 'https://raw.githubusercontent.com/andytaylor823/CS-4774-Final-Project/master/expanded_3.csv'\n",
    "url4 = 'https://raw.githubusercontent.com/andytaylor823/CS-4774-Final-Project/master/expanded_4.csv'\n",
    "url_school_level = 'https://raw.githubusercontent.com/andytaylor823/CS-4774-Final-Project/master/ALL_YEARS_ADDED_FEATURES.csv'\n",
    "\n",
    "expanded_df = pd.read_csv(url1)\n",
    "expanded_df = expanded_df.append(pd.read_csv(url2), ignore_index=True)\n",
    "expanded_df = expanded_df.append(pd.read_csv(url3), ignore_index=True)\n",
    "expanded_df = expanded_df.append(pd.read_csv(url4), ignore_index=True)\n",
    "school_level_df = pd.read_csv(url_school_level).drop('Unnamed: 0', axis=1)\n",
    "expanded_df.drop('Unnamed: 0', axis=1, inplace=True)"
   ]
  },
  {
   "cell_type": "code",
   "execution_count": 5,
   "metadata": {},
   "outputs": [
    {
     "data": {
      "text/html": [
       "<div>\n",
       "<style scoped>\n",
       "    .dataframe tbody tr th:only-of-type {\n",
       "        vertical-align: middle;\n",
       "    }\n",
       "\n",
       "    .dataframe tbody tr th {\n",
       "        vertical-align: top;\n",
       "    }\n",
       "\n",
       "    .dataframe thead th {\n",
       "        text-align: right;\n",
       "    }\n",
       "</style>\n",
       "<table border=\"1\" class=\"dataframe\">\n",
       "  <thead>\n",
       "    <tr style=\"text-align: right;\">\n",
       "      <th></th>\n",
       "      <th>SCHOOL_YEAR</th>\n",
       "      <th>GENDER</th>\n",
       "      <th>FEDERAL_RACE_CODE</th>\n",
       "      <th>DISABILITY_FLAG</th>\n",
       "      <th>DISADVANTAGED_FLAG</th>\n",
       "      <th>LEP_FLAG</th>\n",
       "      <th>COHORT_CNT</th>\n",
       "      <th>per_capita_income</th>\n",
       "      <th>median_houshold_income</th>\n",
       "      <th>median_family_income</th>\n",
       "      <th>STRatio</th>\n",
       "      <th>MathProficiency</th>\n",
       "      <th>ReadingProficiency</th>\n",
       "      <th>dropped_out</th>\n",
       "    </tr>\n",
       "  </thead>\n",
       "  <tbody>\n",
       "    <tr>\n",
       "      <th>0</th>\n",
       "      <td>2007.0</td>\n",
       "      <td>0.0</td>\n",
       "      <td>3.0</td>\n",
       "      <td>1.0</td>\n",
       "      <td>0.0</td>\n",
       "      <td>0.0</td>\n",
       "      <td>3.0</td>\n",
       "      <td>22766.0</td>\n",
       "      <td>0.0</td>\n",
       "      <td>49727.0</td>\n",
       "      <td>14.0</td>\n",
       "      <td>74.0</td>\n",
       "      <td>77.0</td>\n",
       "      <td>1.0</td>\n",
       "    </tr>\n",
       "    <tr>\n",
       "      <th>1</th>\n",
       "      <td>2007.0</td>\n",
       "      <td>0.0</td>\n",
       "      <td>3.0</td>\n",
       "      <td>1.0</td>\n",
       "      <td>0.0</td>\n",
       "      <td>0.0</td>\n",
       "      <td>3.0</td>\n",
       "      <td>22766.0</td>\n",
       "      <td>0.0</td>\n",
       "      <td>49727.0</td>\n",
       "      <td>14.0</td>\n",
       "      <td>74.0</td>\n",
       "      <td>77.0</td>\n",
       "      <td>1.0</td>\n",
       "    </tr>\n",
       "    <tr>\n",
       "      <th>2</th>\n",
       "      <td>2007.0</td>\n",
       "      <td>0.0</td>\n",
       "      <td>3.0</td>\n",
       "      <td>1.0</td>\n",
       "      <td>0.0</td>\n",
       "      <td>0.0</td>\n",
       "      <td>3.0</td>\n",
       "      <td>22766.0</td>\n",
       "      <td>0.0</td>\n",
       "      <td>49727.0</td>\n",
       "      <td>14.0</td>\n",
       "      <td>74.0</td>\n",
       "      <td>77.0</td>\n",
       "      <td>1.0</td>\n",
       "    </tr>\n",
       "    <tr>\n",
       "      <th>3</th>\n",
       "      <td>2007.0</td>\n",
       "      <td>0.0</td>\n",
       "      <td>3.0</td>\n",
       "      <td>1.0</td>\n",
       "      <td>1.0</td>\n",
       "      <td>0.0</td>\n",
       "      <td>7.0</td>\n",
       "      <td>22766.0</td>\n",
       "      <td>0.0</td>\n",
       "      <td>49727.0</td>\n",
       "      <td>14.0</td>\n",
       "      <td>74.0</td>\n",
       "      <td>77.0</td>\n",
       "      <td>0.0</td>\n",
       "    </tr>\n",
       "    <tr>\n",
       "      <th>4</th>\n",
       "      <td>2007.0</td>\n",
       "      <td>0.0</td>\n",
       "      <td>3.0</td>\n",
       "      <td>1.0</td>\n",
       "      <td>1.0</td>\n",
       "      <td>0.0</td>\n",
       "      <td>7.0</td>\n",
       "      <td>22766.0</td>\n",
       "      <td>0.0</td>\n",
       "      <td>49727.0</td>\n",
       "      <td>14.0</td>\n",
       "      <td>74.0</td>\n",
       "      <td>77.0</td>\n",
       "      <td>0.0</td>\n",
       "    </tr>\n",
       "  </tbody>\n",
       "</table>\n",
       "</div>"
      ],
      "text/plain": [
       "   SCHOOL_YEAR  GENDER  FEDERAL_RACE_CODE  DISABILITY_FLAG  \\\n",
       "0       2007.0     0.0                3.0              1.0   \n",
       "1       2007.0     0.0                3.0              1.0   \n",
       "2       2007.0     0.0                3.0              1.0   \n",
       "3       2007.0     0.0                3.0              1.0   \n",
       "4       2007.0     0.0                3.0              1.0   \n",
       "\n",
       "   DISADVANTAGED_FLAG  LEP_FLAG  COHORT_CNT  per_capita_income  \\\n",
       "0                 0.0       0.0         3.0            22766.0   \n",
       "1                 0.0       0.0         3.0            22766.0   \n",
       "2                 0.0       0.0         3.0            22766.0   \n",
       "3                 1.0       0.0         7.0            22766.0   \n",
       "4                 1.0       0.0         7.0            22766.0   \n",
       "\n",
       "   median_houshold_income  median_family_income  STRatio  MathProficiency  \\\n",
       "0                     0.0               49727.0     14.0             74.0   \n",
       "1                     0.0               49727.0     14.0             74.0   \n",
       "2                     0.0               49727.0     14.0             74.0   \n",
       "3                     0.0               49727.0     14.0             74.0   \n",
       "4                     0.0               49727.0     14.0             74.0   \n",
       "\n",
       "   ReadingProficiency  dropped_out  \n",
       "0                77.0          1.0  \n",
       "1                77.0          1.0  \n",
       "2                77.0          1.0  \n",
       "3                77.0          0.0  \n",
       "4                77.0          0.0  "
      ]
     },
     "execution_count": 5,
     "metadata": {},
     "output_type": "execute_result"
    }
   ],
   "source": [
    "expanded_df.head()"
   ]
  },
  {
   "cell_type": "code",
   "execution_count": 6,
   "metadata": {},
   "outputs": [
    {
     "data": {
      "text/html": [
       "<div>\n",
       "<style scoped>\n",
       "    .dataframe tbody tr th:only-of-type {\n",
       "        vertical-align: middle;\n",
       "    }\n",
       "\n",
       "    .dataframe tbody tr th {\n",
       "        vertical-align: top;\n",
       "    }\n",
       "\n",
       "    .dataframe thead th {\n",
       "        text-align: right;\n",
       "    }\n",
       "</style>\n",
       "<table border=\"1\" class=\"dataframe\">\n",
       "  <thead>\n",
       "    <tr style=\"text-align: right;\">\n",
       "      <th></th>\n",
       "      <th>SCHOOL_YEAR</th>\n",
       "      <th>DIV_NAME</th>\n",
       "      <th>SCH_NAME</th>\n",
       "      <th>GENDER</th>\n",
       "      <th>FEDERAL_RACE_CODE</th>\n",
       "      <th>DISABILITY_FLAG</th>\n",
       "      <th>DISADVANTAGED_FLAG</th>\n",
       "      <th>LEP_FLAG</th>\n",
       "      <th>COHORT_CNT</th>\n",
       "      <th>DIPLOMA_RATE</th>\n",
       "      <th>DROPOUT_RATE</th>\n",
       "      <th>per_capita_income</th>\n",
       "      <th>median_household_income</th>\n",
       "      <th>median_family_income</th>\n",
       "      <th>StudentNumber</th>\n",
       "      <th>STRatio</th>\n",
       "      <th>MathProficiency</th>\n",
       "      <th>ReadingProficiency</th>\n",
       "    </tr>\n",
       "  </thead>\n",
       "  <tbody>\n",
       "    <tr>\n",
       "      <th>0</th>\n",
       "      <td>2007-2008</td>\n",
       "      <td>Accomack County</td>\n",
       "      <td>Arcadia High</td>\n",
       "      <td>F</td>\n",
       "      <td>3.0</td>\n",
       "      <td>Y</td>\n",
       "      <td>N</td>\n",
       "      <td>N</td>\n",
       "      <td>3</td>\n",
       "      <td>66.666667</td>\n",
       "      <td>33.333333</td>\n",
       "      <td>22766.0</td>\n",
       "      <td>41372.0</td>\n",
       "      <td>49727.0</td>\n",
       "      <td>603.0</td>\n",
       "      <td>14.0</td>\n",
       "      <td>74.0</td>\n",
       "      <td>77.0</td>\n",
       "    </tr>\n",
       "    <tr>\n",
       "      <th>1</th>\n",
       "      <td>2007-2008</td>\n",
       "      <td>Accomack County</td>\n",
       "      <td>Arcadia High</td>\n",
       "      <td>F</td>\n",
       "      <td>3.0</td>\n",
       "      <td>Y</td>\n",
       "      <td>Y</td>\n",
       "      <td>N</td>\n",
       "      <td>7</td>\n",
       "      <td>100.000000</td>\n",
       "      <td>0.000000</td>\n",
       "      <td>22766.0</td>\n",
       "      <td>41372.0</td>\n",
       "      <td>49727.0</td>\n",
       "      <td>603.0</td>\n",
       "      <td>14.0</td>\n",
       "      <td>74.0</td>\n",
       "      <td>77.0</td>\n",
       "    </tr>\n",
       "    <tr>\n",
       "      <th>2</th>\n",
       "      <td>2007-2008</td>\n",
       "      <td>Accomack County</td>\n",
       "      <td>Arcadia High</td>\n",
       "      <td>F</td>\n",
       "      <td>5.0</td>\n",
       "      <td>N</td>\n",
       "      <td>N</td>\n",
       "      <td>N</td>\n",
       "      <td>33</td>\n",
       "      <td>75.757576</td>\n",
       "      <td>9.090909</td>\n",
       "      <td>22766.0</td>\n",
       "      <td>41372.0</td>\n",
       "      <td>49727.0</td>\n",
       "      <td>603.0</td>\n",
       "      <td>14.0</td>\n",
       "      <td>74.0</td>\n",
       "      <td>77.0</td>\n",
       "    </tr>\n",
       "    <tr>\n",
       "      <th>3</th>\n",
       "      <td>2007-2008</td>\n",
       "      <td>Accomack County</td>\n",
       "      <td>Arcadia High</td>\n",
       "      <td>F</td>\n",
       "      <td>5.0</td>\n",
       "      <td>N</td>\n",
       "      <td>Y</td>\n",
       "      <td>N</td>\n",
       "      <td>13</td>\n",
       "      <td>46.153846</td>\n",
       "      <td>46.153846</td>\n",
       "      <td>22766.0</td>\n",
       "      <td>41372.0</td>\n",
       "      <td>49727.0</td>\n",
       "      <td>603.0</td>\n",
       "      <td>14.0</td>\n",
       "      <td>74.0</td>\n",
       "      <td>77.0</td>\n",
       "    </tr>\n",
       "    <tr>\n",
       "      <th>4</th>\n",
       "      <td>2007-2008</td>\n",
       "      <td>Accomack County</td>\n",
       "      <td>Arcadia High</td>\n",
       "      <td>F</td>\n",
       "      <td>5.0</td>\n",
       "      <td>Y</td>\n",
       "      <td>N</td>\n",
       "      <td>N</td>\n",
       "      <td>3</td>\n",
       "      <td>66.666667</td>\n",
       "      <td>33.333333</td>\n",
       "      <td>22766.0</td>\n",
       "      <td>41372.0</td>\n",
       "      <td>49727.0</td>\n",
       "      <td>603.0</td>\n",
       "      <td>14.0</td>\n",
       "      <td>74.0</td>\n",
       "      <td>77.0</td>\n",
       "    </tr>\n",
       "  </tbody>\n",
       "</table>\n",
       "</div>"
      ],
      "text/plain": [
       "  SCHOOL_YEAR         DIV_NAME      SCH_NAME GENDER  FEDERAL_RACE_CODE  \\\n",
       "0   2007-2008  Accomack County  Arcadia High      F                3.0   \n",
       "1   2007-2008  Accomack County  Arcadia High      F                3.0   \n",
       "2   2007-2008  Accomack County  Arcadia High      F                5.0   \n",
       "3   2007-2008  Accomack County  Arcadia High      F                5.0   \n",
       "4   2007-2008  Accomack County  Arcadia High      F                5.0   \n",
       "\n",
       "  DISABILITY_FLAG DISADVANTAGED_FLAG LEP_FLAG  COHORT_CNT  DIPLOMA_RATE  \\\n",
       "0               Y                  N        N           3     66.666667   \n",
       "1               Y                  Y        N           7    100.000000   \n",
       "2               N                  N        N          33     75.757576   \n",
       "3               N                  Y        N          13     46.153846   \n",
       "4               Y                  N        N           3     66.666667   \n",
       "\n",
       "   DROPOUT_RATE  per_capita_income  median_household_income  \\\n",
       "0     33.333333            22766.0                  41372.0   \n",
       "1      0.000000            22766.0                  41372.0   \n",
       "2      9.090909            22766.0                  41372.0   \n",
       "3     46.153846            22766.0                  41372.0   \n",
       "4     33.333333            22766.0                  41372.0   \n",
       "\n",
       "   median_family_income  StudentNumber  STRatio  MathProficiency  \\\n",
       "0               49727.0          603.0     14.0             74.0   \n",
       "1               49727.0          603.0     14.0             74.0   \n",
       "2               49727.0          603.0     14.0             74.0   \n",
       "3               49727.0          603.0     14.0             74.0   \n",
       "4               49727.0          603.0     14.0             74.0   \n",
       "\n",
       "   ReadingProficiency  \n",
       "0                77.0  \n",
       "1                77.0  \n",
       "2                77.0  \n",
       "3                77.0  \n",
       "4                77.0  "
      ]
     },
     "execution_count": 6,
     "metadata": {},
     "output_type": "execute_result"
    }
   ],
   "source": [
    "school_level_df.head()"
   ]
  },
  {
   "cell_type": "code",
   "execution_count": 7,
   "metadata": {},
   "outputs": [
    {
     "data": {
      "text/plain": [
       "((64863, 17), (7208, 17))"
      ]
     },
     "execution_count": 7,
     "metadata": {},
     "output_type": "execute_result"
    }
   ],
   "source": [
    "from sklearn.model_selection import train_test_split\n",
    "X = np.array(school_level_df.drop('DROPOUT_RATE', axis=1))\n",
    "y = np.array(school_level_df['DROPOUT_RATE'])\n",
    "XTR, XTE, yTR, yTE = train_test_split(X, y, test_size=0.1)\n",
    "XTR.shape, XTE.shape"
   ]
  },
  {
   "cell_type": "code",
   "execution_count": 8,
   "metadata": {},
   "outputs": [
    {
     "data": {
      "text/plain": [
       "Index(['SCHOOL_YEAR', 'DIV_NAME', 'SCH_NAME', 'GENDER', 'FEDERAL_RACE_CODE',\n",
       "       'DISABILITY_FLAG', 'DISADVANTAGED_FLAG', 'LEP_FLAG', 'COHORT_CNT',\n",
       "       'DIPLOMA_RATE', 'DROPOUT_RATE', 'per_capita_income',\n",
       "       'median_household_income', 'median_family_income', 'StudentNumber',\n",
       "       'STRatio', 'MathProficiency', 'ReadingProficiency'],\n",
       "      dtype='object')"
      ]
     },
     "execution_count": 8,
     "metadata": {},
     "output_type": "execute_result"
    }
   ],
   "source": [
    "school_level_df.columns"
   ]
  },
  {
   "cell_type": "code",
   "execution_count": 9,
   "metadata": {},
   "outputs": [
    {
     "data": {
      "text/plain": [
       "Index(['SCHOOL_YEAR', 'GENDER', 'FEDERAL_RACE_CODE', 'DISABILITY_FLAG',\n",
       "       'DISADVANTAGED_FLAG', 'LEP_FLAG', 'COHORT_CNT', 'per_capita_income',\n",
       "       'median_houshold_income', 'median_family_income', 'STRatio',\n",
       "       'MathProficiency', 'ReadingProficiency', 'dropped_out'],\n",
       "      dtype='object')"
      ]
     },
     "execution_count": 9,
     "metadata": {},
     "output_type": "execute_result"
    }
   ],
   "source": [
    "expanded_df.columns"
   ]
  },
  {
   "cell_type": "code",
   "execution_count": 23,
   "metadata": {},
   "outputs": [
    {
     "data": {
      "text/plain": [
       "(963658, 106485)"
      ]
     },
     "execution_count": 23,
     "metadata": {},
     "output_type": "execute_result"
    }
   ],
   "source": [
    "train_length, test_length"
   ]
  },
  {
   "cell_type": "code",
   "execution_count": 54,
   "metadata": {},
   "outputs": [
    {
     "name": "stdout",
     "output_type": "stream",
     "text": [
      "0 percent done (last step took 0.1 seconds)\n",
      "10 percent done (last step took 0.9 seconds)\n",
      "20 percent done (last step took 0.9 seconds)\n",
      "30 percent done (last step took 0.9 seconds)\n",
      "40 percent done (last step took 0.9 seconds)\n",
      "50 percent done (last step took 0.9 seconds)\n",
      "60 percent done (last step took 0.9 seconds)\n",
      "70 percent done (last step took 0.9 seconds)\n",
      "80 percent done (last step took 0.9 seconds)\n",
      "90 percent done (last step took 0.9 seconds)\n",
      "100 percent done (last step took 0.9 seconds)\n"
     ]
    }
   ],
   "source": [
    "import time\n",
    "t0, t1 = time.time(), time.time()\n",
    "# expand the training data\n",
    "cohort_ix = 8\n",
    "school_year_ix = 0\n",
    "gender_ix = 3\n",
    "race_ix = 4\n",
    "flag_ixs = [5, 6, 7]\n",
    "exact_ixs = [8, 10, 11, 12, 14, 15, 16]\n",
    "rowlength = 13 # number of features carrying over\n",
    "\n",
    "# the order of the features will be:\n",
    "# (1) Year\n",
    "# (2) Gender\n",
    "# (3-5) Disability / Disadvantaged / LEP flags\n",
    "# (6) Cohort Size\n",
    "# (7) Federal Race Code\n",
    "# (8-10) Per-capita / Median-household / Median-family incomes\n",
    "# (11) Student-Teacher Ratio\n",
    "# (12-13) Math / Reading Proficiency scores\n",
    "train_length = sum(XTR[:, cohort_ix])\n",
    "X_train, y_train = np.zeros(shape=(train_length,rowlength)), np.zeros(train_length)\n",
    "i = 0\n",
    "for j in range(len(XTR)):\n",
    "    row = XTR[j]\n",
    "    dropout_rate = yTR[j]\n",
    "    for k in range(row[cohort_ix]):\n",
    "    \n",
    "        if i % int(0.1*train_length) == 0:\n",
    "            t2 = time.time()\n",
    "            print('%i percent done (last step took %.1f seconds)' %(i/int(0.1*train_length)*0.1*100, t2-t1))\n",
    "            t1 = time.time()\n",
    "        \n",
    "        # e.g., the first 2 students of a 10 person cohort with 20% dropout have \"True\"\n",
    "        if row[cohort_ix]*dropout_rate > k:   dropped_out = True\n",
    "        else:                                 dropped_out = False\n",
    "        y_train[i] = int(dropped_out)\n",
    "\n",
    "        X_train[i, 0] = int(row[school_year_ix][:4])\n",
    "        X_train[i, 1] = int(row[gender_ix] == 'M')\n",
    "        for new_ix, old_ix in zip(range(2,5), flag_ixs):\n",
    "            X_train[i, new_ix] = int(row[old_ix] == 'Y')\n",
    "        X_train[i, 5] = row[race_ix]\n",
    "        for new_ix, old_ix in zip(range(6, 13), exact_ixs):\n",
    "            X_train[i, new_ix] = row[old_ix]\n",
    "        i += 1\n",
    "X_train[:,0] -= 2007 # bring these all down"
   ]
  },
  {
   "cell_type": "code",
   "execution_count": 60,
   "metadata": {},
   "outputs": [],
   "source": [
    "X_test = np.zeros(shape=(len(yTE), rowlength))\n",
    "y_test = yTE\n",
    "for i in range(len(X_test)):\n",
    "    row = XTE[i]\n",
    "    X_test[i, 0] = int(row[school_year_ix][:4])\n",
    "    X_test[i, 1] = int(row[gender_ix] == 'M')\n",
    "    for new_ix, old_ix in zip(range(2,5), flag_ixs):\n",
    "        X_test[i, new_ix] = int(row[old_ix] == 'Y')\n",
    "    X_test[i, 5] = row[race_ix]\n",
    "    for new_ix, old_ix in zip(range(6, 13), exact_ixs):\n",
    "        X_test[i, new_ix] = row[old_ix]\n",
    "X_test[:,0] -= 2007 # bring these all down"
   ]
  },
  {
   "cell_type": "code",
   "execution_count": 61,
   "metadata": {},
   "outputs": [],
   "source": [
    "from sklearn.compose import ColumnTransformer\n",
    "from sklearn.preprocessing import StandardScaler\n",
    "from sklearn.preprocessing import OneHotEncoder\n",
    "xform = ColumnTransformer([\n",
    "    ('scaling', StandardScaler(), slice(6, 13)),\n",
    "    ('onehot race code', OneHotEncoder(), [5]),\n",
    "    ('do nothing', 'passthrough', slice(0, 5))\n",
    "])\n",
    "\n",
    "X_train_scaled = xform.fit_transform(X_train)\n",
    "X_test_scaled = xform.transform(X_test)"
   ]
  },
  {
   "cell_type": "code",
   "execution_count": 56,
   "metadata": {},
   "outputs": [
    {
     "name": "stdout",
     "output_type": "stream",
     "text": [
      "Model: \"sequential_2\"\n",
      "_________________________________________________________________\n",
      "Layer (type)                 Output Shape              Param #   \n",
      "=================================================================\n",
      "dense_4 (Dense)              (None, 500)               10000     \n",
      "_________________________________________________________________\n",
      "batch_normalization_3 (Batch (None, 500)               2000      \n",
      "_________________________________________________________________\n",
      "dense_5 (Dense)              (None, 300)               150300    \n",
      "_________________________________________________________________\n",
      "batch_normalization_4 (Batch (None, 300)               1200      \n",
      "_________________________________________________________________\n",
      "dense_6 (Dense)              (None, 100)               30100     \n",
      "_________________________________________________________________\n",
      "batch_normalization_5 (Batch (None, 100)               400       \n",
      "_________________________________________________________________\n",
      "dense_7 (Dense)              (None, 2)                 202       \n",
      "=================================================================\n",
      "Total params: 194,202\n",
      "Trainable params: 192,402\n",
      "Non-trainable params: 1,800\n",
      "_________________________________________________________________\n"
     ]
    }
   ],
   "source": [
    "import tensorflow as tf\n",
    "from tensorflow import keras\n",
    "\n",
    "model = keras.models.Sequential()\n",
    "model.add(keras.layers.Dense(500, activation='relu', input_shape=[len(X_train_scaled[0])]))\n",
    "model.add(keras.layers.BatchNormalization())\n",
    "model.add(keras.layers.Dense(300, activation='relu'))\n",
    "model.add(keras.layers.BatchNormalization())\n",
    "model.add(keras.layers.Dense(100, activation='relu'))\n",
    "model.add(keras.layers.BatchNormalization())\n",
    "model.add(keras.layers.Dense(2, activation='softmax'))\n",
    "model.summary()"
   ]
  },
  {
   "cell_type": "code",
   "execution_count": 57,
   "metadata": {},
   "outputs": [],
   "source": [
    "optimizer = keras.optimizers.Adam()\n",
    "model.compile(loss='sparse_categorical_crossentropy', optimizer=optimizer, metrics=['accuracy'])"
   ]
  },
  {
   "cell_type": "code",
   "execution_count": 59,
   "metadata": {},
   "outputs": [
    {
     "name": "stdout",
     "output_type": "stream",
     "text": [
      "Train on 770926 samples, validate on 192732 samples\n",
      "Epoch 1/5\n",
      "770926/770926 [==============================] - 466s 605us/sample - loss: 0.4580 - accuracy: 0.7722 - val_loss: 0.5338 - val_accuracy: 0.7480\n",
      "Epoch 2/5\n",
      "770926/770926 [==============================] - 463s 601us/sample - loss: 0.4009 - accuracy: 0.8047 - val_loss: 0.5896 - val_accuracy: 0.7498\n",
      "Epoch 3/5\n",
      "770926/770926 [==============================] - 473s 613us/sample - loss: 0.3704 - accuracy: 0.8214 - val_loss: 0.7807 - val_accuracy: 0.7500\n",
      "Epoch 4/5\n",
      "770926/770926 [==============================] - 468s 607us/sample - loss: 0.3487 - accuracy: 0.8330 - val_loss: 0.8762 - val_accuracy: 0.7467\n",
      "Epoch 5/5\n",
      "770926/770926 [==============================] - 471s 611us/sample - loss: 0.3337 - accuracy: 0.8416 - val_loss: 1.0189 - val_accuracy: 0.7363\n"
     ]
    }
   ],
   "source": [
    "# this takes like 40 minutes on my laptop\n",
    "# it also starts to get lower validation accuracy after 3 epochs, so maybe this is bad\n",
    "history = model.fit(X_train_scaled, y_train, epochs=5, validation_split=0.2)"
   ]
  },
  {
   "cell_type": "code",
   "execution_count": 66,
   "metadata": {},
   "outputs": [
    {
     "data": {
      "text/plain": [
       "((7208, 19), (7208,))"
      ]
     },
     "execution_count": 66,
     "metadata": {},
     "output_type": "execute_result"
    }
   ],
   "source": [
    "X_test_scaled.shape, y_test.shape"
   ]
  },
  {
   "cell_type": "code",
   "execution_count": 73,
   "metadata": {},
   "outputs": [
    {
     "name": "stdout",
     "output_type": "stream",
     "text": [
      "Error: 48.515\n"
     ]
    }
   ],
   "source": [
    "from sklearn.metrics import mean_squared_error\n",
    "y_pred = model.predict_proba(X_test_scaled)[:, 1]*100 # pick the dropout rate, scaled to a %\n",
    "error = np.sqrt(mean_squared_error(y_test, y_pred))\n",
    "print('Error: %.3f' %error)"
   ]
  },
  {
   "cell_type": "code",
   "execution_count": 70,
   "metadata": {},
   "outputs": [
    {
     "data": {
      "text/plain": [
       "array([0.09752418, 0.3938928 , 0.06266056, 0.1340412 , 0.28224662],\n",
       "      dtype=float32)"
      ]
     },
     "execution_count": 70,
     "metadata": {},
     "output_type": "execute_result"
    }
   ],
   "source": [
    "y_pred[:5]"
   ]
  },
  {
   "cell_type": "code",
   "execution_count": 74,
   "metadata": {},
   "outputs": [
    {
     "data": {
      "image/png": "[encoded data removed]",
      "text/plain": [
       "<Figure size 432x288 with 1 Axes>"
      ]
     },
     "metadata": {
      "needs_background": "light"
     },
     "output_type": "display_data"
    }
   ],
   "source": [
    "plt.hist(y_test - y_pred)\n",
    "plt.show()"
   ]
  },
  {
   "cell_type": "code",
   "execution_count": 78,
   "metadata": {},
   "outputs": [
    {
     "data": {
      "text/plain": [
       "-100.0"
      ]
     },
     "execution_count": 78,
     "metadata": {},
     "output_type": "execute_result"
    }
   ],
   "source": [
    "min(y_test-y_pred)"
   ]
  },
  {
   "cell_type": "code",
   "execution_count": null,
   "metadata": {},
   "outputs": [],
   "source": []
  },
  {
   "cell_type": "code",
   "execution_count": null,
   "metadata": {},
   "outputs": [],
   "source": []
  },
  {
   "cell_type": "code",
   "execution_count": null,
   "metadata": {},
   "outputs": [],
   "source": []
  },
  {
   "cell_type": "code",
   "execution_count": null,
   "metadata": {},
   "outputs": [],
   "source": []
  },
  {
   "cell_type": "code",
   "execution_count": null,
   "metadata": {},
   "outputs": [],
   "source": []
  },
  {
   "cell_type": "code",
   "execution_count": 65,
   "metadata": {},
   "outputs": [
    {
     "data": {
      "text/plain": [
       "0.6402281722353781"
      ]
     },
     "execution_count": 65,
     "metadata": {},
     "output_type": "execute_result"
    }
   ],
   "source": [
    "sum(y_train)/len(y_train)"
   ]
  },
  {
   "cell_type": "code",
   "execution_count": null,
   "metadata": {},
   "outputs": [],
   "source": []
  }
 ],
 "metadata": {
  "kernelspec": {
   "display_name": "Python 3",
   "language": "python",
   "name": "python3"
  },
  "language_info": {
   "codemirror_mode": {
    "name": "ipython",
    "version": 3
   },
   "file_extension": ".py",
   "mimetype": "text/x-python",
   "name": "python",
   "nbconvert_exporter": "python",
   "pygments_lexer": "ipython3",
   "version": "3.7.6"
  }
 },
 "nbformat": 4,
 "nbformat_minor": 4
}
