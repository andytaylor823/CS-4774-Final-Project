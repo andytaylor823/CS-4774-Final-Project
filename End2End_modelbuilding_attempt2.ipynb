{
 "cells": [
  {
   "cell_type": "code",
   "execution_count": 1,
   "metadata": {},
   "outputs": [
    {
     "data": {
      "text/html": [
       "<div>\n",
       "<style scoped>\n",
       "    .dataframe tbody tr th:only-of-type {\n",
       "        vertical-align: middle;\n",
       "    }\n",
       "\n",
       "    .dataframe tbody tr th {\n",
       "        vertical-align: top;\n",
       "    }\n",
       "\n",
       "    .dataframe thead th {\n",
       "        text-align: right;\n",
       "    }\n",
       "</style>\n",
       "<table border=\"1\" class=\"dataframe\">\n",
       "  <thead>\n",
       "    <tr style=\"text-align: right;\">\n",
       "      <th></th>\n",
       "      <th>SCHOOL_YEAR</th>\n",
       "      <th>DIV_NAME</th>\n",
       "      <th>SCH_NAME</th>\n",
       "      <th>GENDER</th>\n",
       "      <th>FEDERAL_RACE_CODE</th>\n",
       "      <th>DISABILITY_FLAG</th>\n",
       "      <th>DISADVANTAGED_FLAG</th>\n",
       "      <th>LEP_FLAG</th>\n",
       "      <th>COHORT_CNT</th>\n",
       "      <th>DIPLOMA_RATE</th>\n",
       "      <th>DROPOUT_RATE</th>\n",
       "      <th>per_capita_income</th>\n",
       "      <th>median_household_income</th>\n",
       "      <th>median_family_income</th>\n",
       "      <th>StudentNumber</th>\n",
       "      <th>STRatio</th>\n",
       "      <th>MathProficiency</th>\n",
       "      <th>ReadingProficiency</th>\n",
       "    </tr>\n",
       "  </thead>\n",
       "  <tbody>\n",
       "    <tr>\n",
       "      <th>0</th>\n",
       "      <td>2007-2008</td>\n",
       "      <td>Accomack County</td>\n",
       "      <td>Arcadia High</td>\n",
       "      <td>F</td>\n",
       "      <td>3.0</td>\n",
       "      <td>Y</td>\n",
       "      <td>N</td>\n",
       "      <td>N</td>\n",
       "      <td>3</td>\n",
       "      <td>66.666667</td>\n",
       "      <td>33.333333</td>\n",
       "      <td>22766.0</td>\n",
       "      <td>41372.0</td>\n",
       "      <td>49727.0</td>\n",
       "      <td>603.0</td>\n",
       "      <td>14.0</td>\n",
       "      <td>74.0</td>\n",
       "      <td>77.0</td>\n",
       "    </tr>\n",
       "    <tr>\n",
       "      <th>1</th>\n",
       "      <td>2007-2008</td>\n",
       "      <td>Accomack County</td>\n",
       "      <td>Arcadia High</td>\n",
       "      <td>F</td>\n",
       "      <td>3.0</td>\n",
       "      <td>Y</td>\n",
       "      <td>Y</td>\n",
       "      <td>N</td>\n",
       "      <td>7</td>\n",
       "      <td>100.000000</td>\n",
       "      <td>0.000000</td>\n",
       "      <td>22766.0</td>\n",
       "      <td>41372.0</td>\n",
       "      <td>49727.0</td>\n",
       "      <td>603.0</td>\n",
       "      <td>14.0</td>\n",
       "      <td>74.0</td>\n",
       "      <td>77.0</td>\n",
       "    </tr>\n",
       "    <tr>\n",
       "      <th>2</th>\n",
       "      <td>2007-2008</td>\n",
       "      <td>Accomack County</td>\n",
       "      <td>Arcadia High</td>\n",
       "      <td>F</td>\n",
       "      <td>5.0</td>\n",
       "      <td>N</td>\n",
       "      <td>N</td>\n",
       "      <td>N</td>\n",
       "      <td>33</td>\n",
       "      <td>75.757576</td>\n",
       "      <td>9.090909</td>\n",
       "      <td>22766.0</td>\n",
       "      <td>41372.0</td>\n",
       "      <td>49727.0</td>\n",
       "      <td>603.0</td>\n",
       "      <td>14.0</td>\n",
       "      <td>74.0</td>\n",
       "      <td>77.0</td>\n",
       "    </tr>\n",
       "    <tr>\n",
       "      <th>3</th>\n",
       "      <td>2007-2008</td>\n",
       "      <td>Accomack County</td>\n",
       "      <td>Arcadia High</td>\n",
       "      <td>F</td>\n",
       "      <td>5.0</td>\n",
       "      <td>N</td>\n",
       "      <td>Y</td>\n",
       "      <td>N</td>\n",
       "      <td>13</td>\n",
       "      <td>46.153846</td>\n",
       "      <td>46.153846</td>\n",
       "      <td>22766.0</td>\n",
       "      <td>41372.0</td>\n",
       "      <td>49727.0</td>\n",
       "      <td>603.0</td>\n",
       "      <td>14.0</td>\n",
       "      <td>74.0</td>\n",
       "      <td>77.0</td>\n",
       "    </tr>\n",
       "    <tr>\n",
       "      <th>4</th>\n",
       "      <td>2007-2008</td>\n",
       "      <td>Accomack County</td>\n",
       "      <td>Arcadia High</td>\n",
       "      <td>F</td>\n",
       "      <td>5.0</td>\n",
       "      <td>Y</td>\n",
       "      <td>N</td>\n",
       "      <td>N</td>\n",
       "      <td>3</td>\n",
       "      <td>66.666667</td>\n",
       "      <td>33.333333</td>\n",
       "      <td>22766.0</td>\n",
       "      <td>41372.0</td>\n",
       "      <td>49727.0</td>\n",
       "      <td>603.0</td>\n",
       "      <td>14.0</td>\n",
       "      <td>74.0</td>\n",
       "      <td>77.0</td>\n",
       "    </tr>\n",
       "  </tbody>\n",
       "</table>\n",
       "</div>"
      ],
      "text/plain": [
       "  SCHOOL_YEAR         DIV_NAME      SCH_NAME GENDER  FEDERAL_RACE_CODE  \\\n",
       "0   2007-2008  Accomack County  Arcadia High      F                3.0   \n",
       "1   2007-2008  Accomack County  Arcadia High      F                3.0   \n",
       "2   2007-2008  Accomack County  Arcadia High      F                5.0   \n",
       "3   2007-2008  Accomack County  Arcadia High      F                5.0   \n",
       "4   2007-2008  Accomack County  Arcadia High      F                5.0   \n",
       "\n",
       "  DISABILITY_FLAG DISADVANTAGED_FLAG LEP_FLAG  COHORT_CNT  DIPLOMA_RATE  \\\n",
       "0               Y                  N        N           3     66.666667   \n",
       "1               Y                  Y        N           7    100.000000   \n",
       "2               N                  N        N          33     75.757576   \n",
       "3               N                  Y        N          13     46.153846   \n",
       "4               Y                  N        N           3     66.666667   \n",
       "\n",
       "   DROPOUT_RATE  per_capita_income  median_household_income  \\\n",
       "0     33.333333            22766.0                  41372.0   \n",
       "1      0.000000            22766.0                  41372.0   \n",
       "2      9.090909            22766.0                  41372.0   \n",
       "3     46.153846            22766.0                  41372.0   \n",
       "4     33.333333            22766.0                  41372.0   \n",
       "\n",
       "   median_family_income  StudentNumber  STRatio  MathProficiency  \\\n",
       "0               49727.0          603.0     14.0             74.0   \n",
       "1               49727.0          603.0     14.0             74.0   \n",
       "2               49727.0          603.0     14.0             74.0   \n",
       "3               49727.0          603.0     14.0             74.0   \n",
       "4               49727.0          603.0     14.0             74.0   \n",
       "\n",
       "   ReadingProficiency  \n",
       "0                77.0  \n",
       "1                77.0  \n",
       "2                77.0  \n",
       "3                77.0  \n",
       "4                77.0  "
      ]
     },
     "execution_count": 1,
     "metadata": {},
     "output_type": "execute_result"
    }
   ],
   "source": [
    "import numpy as np\n",
    "import matplotlib.pyplot as plt\n",
    "import pandas as pd\n",
    "url = 'https://raw.githubusercontent.com/andytaylor823/CS-4774-Final-Project/master/ALL_YEARS_ADDED_FEATURES.csv'\n",
    "df = pd.read_csv(url)\n",
    "df.head()"
   ]
  },
  {
   "cell_type": "code",
   "execution_count": 2,
   "metadata": {},
   "outputs": [
    {
     "name": "stdout",
     "output_type": "stream",
     "text": [
      "<class 'pandas.core.frame.DataFrame'>\n",
      "RangeIndex: 72071 entries, 0 to 72070\n",
      "Data columns (total 18 columns):\n",
      " #   Column                   Non-Null Count  Dtype  \n",
      "---  ------                   --------------  -----  \n",
      " 0   SCHOOL_YEAR              72071 non-null  object \n",
      " 1   DIV_NAME                 72071 non-null  object \n",
      " 2   SCH_NAME                 72071 non-null  object \n",
      " 3   GENDER                   72071 non-null  object \n",
      " 4   FEDERAL_RACE_CODE        72071 non-null  float64\n",
      " 5   DISABILITY_FLAG          72071 non-null  object \n",
      " 6   DISADVANTAGED_FLAG       72071 non-null  object \n",
      " 7   LEP_FLAG                 72071 non-null  object \n",
      " 8   COHORT_CNT               72071 non-null  int64  \n",
      " 9   DIPLOMA_RATE             72071 non-null  float64\n",
      " 10  DROPOUT_RATE             72071 non-null  float64\n",
      " 11  per_capita_income        72071 non-null  float64\n",
      " 12  median_household_income  72071 non-null  float64\n",
      " 13  median_family_income     72071 non-null  float64\n",
      " 14  StudentNumber            72071 non-null  float64\n",
      " 15  STRatio                  72071 non-null  float64\n",
      " 16  MathProficiency          72071 non-null  float64\n",
      " 17  ReadingProficiency       72071 non-null  float64\n",
      "dtypes: float64(10), int64(1), object(7)\n",
      "memory usage: 9.9+ MB\n"
     ]
    }
   ],
   "source": [
    "df.info()"
   ]
  },
  {
   "cell_type": "code",
   "execution_count": 3,
   "metadata": {},
   "outputs": [
    {
     "data": {
      "text/html": [
       "<div>\n",
       "<style scoped>\n",
       "    .dataframe tbody tr th:only-of-type {\n",
       "        vertical-align: middle;\n",
       "    }\n",
       "\n",
       "    .dataframe tbody tr th {\n",
       "        vertical-align: top;\n",
       "    }\n",
       "\n",
       "    .dataframe thead th {\n",
       "        text-align: right;\n",
       "    }\n",
       "</style>\n",
       "<table border=\"1\" class=\"dataframe\">\n",
       "  <thead>\n",
       "    <tr style=\"text-align: right;\">\n",
       "      <th></th>\n",
       "      <th>SCHOOL_YEAR</th>\n",
       "      <th>DIV_NAME</th>\n",
       "      <th>SCH_NAME</th>\n",
       "      <th>GENDER</th>\n",
       "      <th>FEDERAL_RACE_CODE</th>\n",
       "      <th>DISABILITY_FLAG</th>\n",
       "      <th>DISADVANTAGED_FLAG</th>\n",
       "      <th>LEP_FLAG</th>\n",
       "      <th>COHORT_CNT</th>\n",
       "      <th>DIPLOMA_RATE</th>\n",
       "      <th>DROPOUT_RATE</th>\n",
       "      <th>per_capita_income</th>\n",
       "      <th>median_household_income</th>\n",
       "      <th>median_family_income</th>\n",
       "      <th>StudentNumber</th>\n",
       "      <th>STRatio</th>\n",
       "      <th>MathProficiency</th>\n",
       "      <th>ReadingProficiency</th>\n",
       "      <th>yrs_since_07</th>\n",
       "    </tr>\n",
       "  </thead>\n",
       "  <tbody>\n",
       "    <tr>\n",
       "      <th>0</th>\n",
       "      <td>2007-2008</td>\n",
       "      <td>Accomack County</td>\n",
       "      <td>Arcadia High</td>\n",
       "      <td>F</td>\n",
       "      <td>3.0</td>\n",
       "      <td>Y</td>\n",
       "      <td>N</td>\n",
       "      <td>N</td>\n",
       "      <td>3</td>\n",
       "      <td>66.666667</td>\n",
       "      <td>33.333333</td>\n",
       "      <td>22766.0</td>\n",
       "      <td>41372.0</td>\n",
       "      <td>49727.0</td>\n",
       "      <td>603.0</td>\n",
       "      <td>14.0</td>\n",
       "      <td>74.0</td>\n",
       "      <td>77.0</td>\n",
       "      <td>0</td>\n",
       "    </tr>\n",
       "    <tr>\n",
       "      <th>1</th>\n",
       "      <td>2007-2008</td>\n",
       "      <td>Accomack County</td>\n",
       "      <td>Arcadia High</td>\n",
       "      <td>F</td>\n",
       "      <td>3.0</td>\n",
       "      <td>Y</td>\n",
       "      <td>Y</td>\n",
       "      <td>N</td>\n",
       "      <td>7</td>\n",
       "      <td>100.000000</td>\n",
       "      <td>0.000000</td>\n",
       "      <td>22766.0</td>\n",
       "      <td>41372.0</td>\n",
       "      <td>49727.0</td>\n",
       "      <td>603.0</td>\n",
       "      <td>14.0</td>\n",
       "      <td>74.0</td>\n",
       "      <td>77.0</td>\n",
       "      <td>0</td>\n",
       "    </tr>\n",
       "    <tr>\n",
       "      <th>2</th>\n",
       "      <td>2007-2008</td>\n",
       "      <td>Accomack County</td>\n",
       "      <td>Arcadia High</td>\n",
       "      <td>F</td>\n",
       "      <td>5.0</td>\n",
       "      <td>N</td>\n",
       "      <td>N</td>\n",
       "      <td>N</td>\n",
       "      <td>33</td>\n",
       "      <td>75.757576</td>\n",
       "      <td>9.090909</td>\n",
       "      <td>22766.0</td>\n",
       "      <td>41372.0</td>\n",
       "      <td>49727.0</td>\n",
       "      <td>603.0</td>\n",
       "      <td>14.0</td>\n",
       "      <td>74.0</td>\n",
       "      <td>77.0</td>\n",
       "      <td>0</td>\n",
       "    </tr>\n",
       "    <tr>\n",
       "      <th>3</th>\n",
       "      <td>2007-2008</td>\n",
       "      <td>Accomack County</td>\n",
       "      <td>Arcadia High</td>\n",
       "      <td>F</td>\n",
       "      <td>5.0</td>\n",
       "      <td>N</td>\n",
       "      <td>Y</td>\n",
       "      <td>N</td>\n",
       "      <td>13</td>\n",
       "      <td>46.153846</td>\n",
       "      <td>46.153846</td>\n",
       "      <td>22766.0</td>\n",
       "      <td>41372.0</td>\n",
       "      <td>49727.0</td>\n",
       "      <td>603.0</td>\n",
       "      <td>14.0</td>\n",
       "      <td>74.0</td>\n",
       "      <td>77.0</td>\n",
       "      <td>0</td>\n",
       "    </tr>\n",
       "    <tr>\n",
       "      <th>4</th>\n",
       "      <td>2007-2008</td>\n",
       "      <td>Accomack County</td>\n",
       "      <td>Arcadia High</td>\n",
       "      <td>F</td>\n",
       "      <td>5.0</td>\n",
       "      <td>Y</td>\n",
       "      <td>N</td>\n",
       "      <td>N</td>\n",
       "      <td>3</td>\n",
       "      <td>66.666667</td>\n",
       "      <td>33.333333</td>\n",
       "      <td>22766.0</td>\n",
       "      <td>41372.0</td>\n",
       "      <td>49727.0</td>\n",
       "      <td>603.0</td>\n",
       "      <td>14.0</td>\n",
       "      <td>74.0</td>\n",
       "      <td>77.0</td>\n",
       "      <td>0</td>\n",
       "    </tr>\n",
       "  </tbody>\n",
       "</table>\n",
       "</div>"
      ],
      "text/plain": [
       "  SCHOOL_YEAR         DIV_NAME      SCH_NAME GENDER  FEDERAL_RACE_CODE  \\\n",
       "0   2007-2008  Accomack County  Arcadia High      F                3.0   \n",
       "1   2007-2008  Accomack County  Arcadia High      F                3.0   \n",
       "2   2007-2008  Accomack County  Arcadia High      F                5.0   \n",
       "3   2007-2008  Accomack County  Arcadia High      F                5.0   \n",
       "4   2007-2008  Accomack County  Arcadia High      F                5.0   \n",
       "\n",
       "  DISABILITY_FLAG DISADVANTAGED_FLAG LEP_FLAG  COHORT_CNT  DIPLOMA_RATE  \\\n",
       "0               Y                  N        N           3     66.666667   \n",
       "1               Y                  Y        N           7    100.000000   \n",
       "2               N                  N        N          33     75.757576   \n",
       "3               N                  Y        N          13     46.153846   \n",
       "4               Y                  N        N           3     66.666667   \n",
       "\n",
       "   DROPOUT_RATE  per_capita_income  median_household_income  \\\n",
       "0     33.333333            22766.0                  41372.0   \n",
       "1      0.000000            22766.0                  41372.0   \n",
       "2      9.090909            22766.0                  41372.0   \n",
       "3     46.153846            22766.0                  41372.0   \n",
       "4     33.333333            22766.0                  41372.0   \n",
       "\n",
       "   median_family_income  StudentNumber  STRatio  MathProficiency  \\\n",
       "0               49727.0          603.0     14.0             74.0   \n",
       "1               49727.0          603.0     14.0             74.0   \n",
       "2               49727.0          603.0     14.0             74.0   \n",
       "3               49727.0          603.0     14.0             74.0   \n",
       "4               49727.0          603.0     14.0             74.0   \n",
       "\n",
       "   ReadingProficiency  yrs_since_07  \n",
       "0                77.0             0  \n",
       "1                77.0             0  \n",
       "2                77.0             0  \n",
       "3                77.0             0  \n",
       "4                77.0             0  "
      ]
     },
     "execution_count": 3,
     "metadata": {},
     "output_type": "execute_result"
    }
   ],
   "source": [
    "df['yrs_since_07'] = np.array([int(y[:4])-2007 for y in df['SCHOOL_YEAR']])\n",
    "df.head()"
   ]
  },
  {
   "cell_type": "code",
   "execution_count": 4,
   "metadata": {},
   "outputs": [],
   "source": [
    "from sklearn.model_selection import train_test_split\n",
    "X = df.drop(['DIPLOMA_RATE', 'DROPOUT_RATE'], axis=1)\n",
    "y = (df['DROPOUT_RATE']*df['COHORT_CNT']/100).copy()\n",
    "X_train, X_test, y_train, y_test = train_test_split(X, y, test_size=0.2, random_state=623)\n",
    "# they're all still dataframe objects"
   ]
  },
  {
   "cell_type": "code",
   "execution_count": 5,
   "metadata": {},
   "outputs": [
    {
     "data": {
      "text/plain": [
       "((57656, 19), (14415, 19))"
      ]
     },
     "execution_count": 5,
     "metadata": {},
     "output_type": "execute_result"
    }
   ],
   "source": [
    "from sklearn.compose import ColumnTransformer\n",
    "from sklearn.preprocessing import StandardScaler\n",
    "from sklearn.preprocessing import OneHotEncoder\n",
    "from sklearn.preprocessing import OrdinalEncoder # converts ['N', 'Y'] into [0, 1]\n",
    "scale_cols = ['COHORT_CNT', 'per_capita_income', 'median_household_income', 'median_family_income',\n",
    "              'StudentNumber', 'STRatio', 'MathProficiency', 'ReadingProficiency']\n",
    "binary_code_cols = ['GENDER', 'DISABILITY_FLAG', 'DISADVANTAGED_FLAG', 'LEP_FLAG']\n",
    "onehotcols = ['FEDERAL_RACE_CODE']\n",
    "drop_cols = ['SCHOOL_YEAR', 'DIV_NAME', 'SCH_NAME']\n",
    "\n",
    "pipeline = ColumnTransformer([\n",
    "    ('scale', StandardScaler(), scale_cols),\n",
    "    ('binary_code', OrdinalEncoder(), binary_code_cols),\n",
    "    ('onehot', OneHotEncoder(), onehotcols),\n",
    "    ('drop some', 'drop', drop_cols)\n",
    "])\n",
    "\n",
    "X_train_scaled = pipeline.fit_transform(X_train)\n",
    "X_test_scaled = pipeline.transform(X_test)\n",
    "y_train = np.array(y_train)\n",
    "y_test = np.array(y_test)\n",
    "X_train_scaled.shape, X_test_scaled.shape"
   ]
  },
  {
   "cell_type": "code",
   "execution_count": 6,
   "metadata": {},
   "outputs": [
    {
     "name": "stdout",
     "output_type": "stream",
     "text": [
      "Model: \"sequential\"\n",
      "_________________________________________________________________\n",
      "Layer (type)                 Output Shape              Param #   \n",
      "=================================================================\n",
      "dense (Dense)                (None, 19)                380       \n",
      "_________________________________________________________________\n",
      "dense_1 (Dense)              (None, 15)                300       \n",
      "_________________________________________________________________\n",
      "batch_normalization (BatchNo (None, 15)                60        \n",
      "_________________________________________________________________\n",
      "dense_2 (Dense)              (None, 13)                208       \n",
      "_________________________________________________________________\n",
      "batch_normalization_1 (Batch (None, 13)                52        \n",
      "_________________________________________________________________\n",
      "dense_3 (Dense)              (None, 11)                154       \n",
      "_________________________________________________________________\n",
      "batch_normalization_2 (Batch (None, 11)                44        \n",
      "_________________________________________________________________\n",
      "dense_4 (Dense)              (None, 9)                 108       \n",
      "_________________________________________________________________\n",
      "batch_normalization_3 (Batch (None, 9)                 36        \n",
      "_________________________________________________________________\n",
      "dense_5 (Dense)              (None, 7)                 70        \n",
      "_________________________________________________________________\n",
      "batch_normalization_4 (Batch (None, 7)                 28        \n",
      "_________________________________________________________________\n",
      "dense_6 (Dense)              (None, 5)                 40        \n",
      "_________________________________________________________________\n",
      "batch_normalization_5 (Batch (None, 5)                 20        \n",
      "_________________________________________________________________\n",
      "dense_7 (Dense)              (None, 1)                 6         \n",
      "=================================================================\n",
      "Total params: 1,506\n",
      "Trainable params: 1,386\n",
      "Non-trainable params: 120\n",
      "_________________________________________________________________\n"
     ]
    }
   ],
   "source": [
    "import tensorflow as tf\n",
    "from tensorflow import keras\n",
    "model = keras.models.Sequential()\n",
    "model.add(keras.layers.Dense(19, activation='relu', input_shape=X_train_scaled.shape[1:]))\n",
    "for i in range(15, 3, -2):\n",
    "    model.add(keras.layers.Dense(i, activation='relu'))\n",
    "    model.add(keras.layers.BatchNormalization())\n",
    "model.add(keras.layers.Dense(1))\n",
    "model.summary()"
   ]
  },
  {
   "cell_type": "code",
   "execution_count": 7,
   "metadata": {},
   "outputs": [
    {
     "name": "stdout",
     "output_type": "stream",
     "text": [
      "Train on 46124 samples, validate on 11532 samples\n",
      "Epoch 1/20\n",
      "46124/46124 [==============================] - 24s 515us/sample - loss: 3.8435 - val_loss: 3.1176\n",
      "Epoch 2/20\n",
      "46124/46124 [==============================] - 16s 350us/sample - loss: 3.0347 - val_loss: 2.8153\n",
      "Epoch 3/20\n",
      "46124/46124 [==============================] - 18s 382us/sample - loss: 2.7901 - val_loss: 2.3527\n",
      "Epoch 4/20\n",
      "46124/46124 [==============================] - 17s 360us/sample - loss: 2.6105 - val_loss: 2.2940\n",
      "Epoch 5/20\n",
      "46124/46124 [==============================] - 16s 352us/sample - loss: 2.5095 - val_loss: 2.2665\n",
      "Epoch 6/20\n",
      "46124/46124 [==============================] - 17s 364us/sample - loss: 2.4251 - val_loss: 2.2838\n",
      "Epoch 7/20\n",
      "46124/46124 [==============================] - 16s 354us/sample - loss: 2.4004 - val_loss: 2.2768\n",
      "Epoch 8/20\n",
      "46124/46124 [==============================] - 17s 367us/sample - loss: 2.3593 - val_loss: 2.0831\n",
      "Epoch 9/20\n",
      "46124/46124 [==============================] - 17s 359us/sample - loss: 2.3099 - val_loss: 2.2352\n",
      "Epoch 10/20\n",
      "46124/46124 [==============================] - 17s 360us/sample - loss: 2.2676 - val_loss: 2.0787\n",
      "Epoch 11/20\n",
      "46124/46124 [==============================] - 17s 360us/sample - loss: 2.2763 - val_loss: 2.0826\n",
      "Epoch 12/20\n",
      "46124/46124 [==============================] - 17s 358us/sample - loss: 2.2653 - val_loss: 2.0460\n",
      "Epoch 13/20\n",
      "46124/46124 [==============================] - 17s 359us/sample - loss: 2.2260 - val_loss: 2.0097\n",
      "Epoch 14/20\n",
      "46124/46124 [==============================] - 17s 366us/sample - loss: 2.1980 - val_loss: 2.0851\n",
      "Epoch 15/20\n",
      "46124/46124 [==============================] - 17s 360us/sample - loss: 2.1934 - val_loss: 2.0444\n",
      "Epoch 16/20\n",
      "46124/46124 [==============================] - 17s 362us/sample - loss: 2.1600 - val_loss: 1.9970\n",
      "Epoch 17/20\n",
      "46124/46124 [==============================] - 17s 361us/sample - loss: 2.1477 - val_loss: 1.9046\n",
      "Epoch 18/20\n",
      "46124/46124 [==============================] - 17s 363us/sample - loss: 2.1805 - val_loss: 1.9982\n",
      "Epoch 19/20\n",
      "46124/46124 [==============================] - 17s 363us/sample - loss: 2.1297 - val_loss: 1.9432\n",
      "Epoch 20/20\n",
      "46124/46124 [==============================] - 17s 363us/sample - loss: 2.1139 - val_loss: 1.9748\n"
     ]
    }
   ],
   "source": [
    "optimizer = keras.optimizers.Adam()\n",
    "model.compile(loss='mean_squared_error', optimizer=optimizer)\n",
    "history = model.fit(X_train_scaled, y_train, epochs=20, validation_split=0.2)"
   ]
  },
  {
   "cell_type": "code",
   "execution_count": 15,
   "metadata": {},
   "outputs": [
    {
     "name": "stdout",
     "output_type": "stream",
     "text": [
      "1.4504632055875488\n"
     ]
    }
   ],
   "source": [
    "from sklearn.metrics import mean_squared_error\n",
    "y_pred = model.predict(X_test_scaled)\n",
    "mse = mean_squared_error(y_test, y_pred)\n",
    "rmse = np.sqrt(mse)\n",
    "print(rmse)"
   ]
  },
  {
   "cell_type": "code",
   "execution_count": 23,
   "metadata": {},
   "outputs": [
    {
     "name": "stdout",
     "output_type": "stream",
     "text": [
      "[1. 0. 0. 6. 1. 3. 0. 2. 0. 0.]\n",
      "[0. 0. 0. 2. 1. 5. 0. 1. 0. 0.]\n"
     ]
    }
   ],
   "source": [
    "ys = model.predict(X_test_scaled[100:110])\n",
    "print(np.round(ys)[:,0])\n",
    "print(y_test[100:110])"
   ]
  },
  {
   "cell_type": "code",
   "execution_count": 18,
   "metadata": {},
   "outputs": [
    {
     "data": {
      "text/plain": [
       "array([0., 1., 1., 0., 0., 0., 2., 1., 0., 0., 0., 0., 2., 2., 0., 1., 2.,\n",
       "       1., 1., 0.])"
      ]
     },
     "execution_count": 18,
     "metadata": {},
     "output_type": "execute_result"
    }
   ],
   "source": [
    "y_test[:20]"
   ]
  },
  {
   "cell_type": "code",
   "execution_count": 27,
   "metadata": {},
   "outputs": [
    {
     "data": {
      "image/png": "[encoded data removed]",
      "text/plain": [
       "<Figure size 432x288 with 1 Axes>"
      ]
     },
     "metadata": {
      "needs_background": "light"
     },
     "output_type": "display_data"
    }
   ],
   "source": [
    "plt.hist(y_test)\n",
    "plt.yscale('log')\n",
    "plt.show()"
   ]
  },
  {
   "cell_type": "code",
   "execution_count": 29,
   "metadata": {},
   "outputs": [
    {
     "data": {
      "text/plain": [
       "(8869, 14415)"
      ]
     },
     "execution_count": 29,
     "metadata": {},
     "output_type": "execute_result"
    }
   ],
   "source": [
    "sum(y_test==0), len(y_test)"
   ]
  },
  {
   "cell_type": "code",
   "execution_count": 30,
   "metadata": {},
   "outputs": [
    {
     "data": {
      "image/png": "[encoded data removed]",
      "text/plain": [
       "<Figure size 432x288 with 1 Axes>"
      ]
     },
     "metadata": {
      "needs_background": "light"
     },
     "output_type": "display_data"
    }
   ],
   "source": [
    "plt.hist(y_test-y_pred)\n",
    "plt.yscale('log')\n",
    "plt.show()"
   ]
  },
  {
   "cell_type": "code",
   "execution_count": null,
   "metadata": {},
   "outputs": [],
   "source": []
  }
 ],
 "metadata": {
  "kernelspec": {
   "display_name": "Python 3",
   "language": "python",
   "name": "python3"
  },
  "language_info": {
   "codemirror_mode": {
    "name": "ipython",
    "version": 3
   },
   "file_extension": ".py",
   "mimetype": "text/x-python",
   "name": "python",
   "nbconvert_exporter": "python",
   "pygments_lexer": "ipython3",
   "version": "3.7.6"
  }
 },
 "nbformat": 4,
 "nbformat_minor": 4
}
