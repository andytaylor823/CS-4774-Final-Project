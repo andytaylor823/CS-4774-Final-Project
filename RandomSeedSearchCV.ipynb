{
 "cells": [
  {
   "cell_type": "code",
   "execution_count": 21,
   "metadata": {},
   "outputs": [],
   "source": [
    "import numpy as np\n",
    "import pandas as pd\n",
    "import matplotlib.pyplot as plt\n",
    "from time import time\n",
    "\n",
    "import tensorflow as tf\n",
    "from tensorflow import keras\n",
    "\n",
    "import sklearn\n",
    "from sklearn.metrics import get_scorer, mean_squared_error\n",
    "from sklearn.linear_model import LinearRegression, SGDRegressor\n",
    "from sklearn.ensemble import RandomForestRegressor\n",
    "from sklearn.model_selection import train_test_split,cross_val_score\n",
    "\n",
    "from useful_functions import load_transform_split, scatter_resid, scatter_predvreal"
   ]
  },
  {
   "cell_type": "code",
   "execution_count": 16,
   "metadata": {},
   "outputs": [
    {
     "name": "stdout",
     "output_type": "stream",
     "text": [
      "(57656, 19) (14414, 19)\n",
      "(57656,) (14414,)\n"
     ]
    }
   ],
   "source": [
    "X_train,X_test,y_train,y_test,pipeline = load_transform_split(target='DROPOUT_N',\n",
    "                                                              expand=False,\n",
    "                                                              clean=True,\n",
    "                                                              split=0.2,\n",
    "                                                              return_pipeline=True,\n",
    "                                                              fmt='numpy',\n",
    "                                                              random_state=42)\n",
    "print(X_train.shape,X_test.shape)\n",
    "y_train = y_train.flatten()\n",
    "y_test = y_test.flatten()\n",
    "print(y_train.shape,y_test.shape)"
   ]
  },
  {
   "cell_type": "code",
   "execution_count": 51,
   "metadata": {},
   "outputs": [],
   "source": [
    "def preserve_state(func):\n",
    "    # Decorator to prevent a function from affecting \n",
    "    #  the numpy random seed outside of its scope.\n",
    "    def wrapper(*args,**kwargs):\n",
    "        state = np.random.get_state() #Store the random state before function call.\n",
    "        ret = func(*args,**kwargs)    #Call function.\n",
    "        np.random.set_state(state)    #Revert numpy to random state from before function call.\n",
    "        return ret\n",
    "    return wrapper\n",
    "\n",
    "class simple_progress:\n",
    "    def __init__(self):\n",
    "        self.longest = 0\n",
    "    def update(self,message):\n",
    "        print(self.longest*\" \",end=\"\\r\") #Erase previous message.\n",
    "        print(message,end=\"\\r\")          #Print message\n",
    "        if len(message) > self.longest:  #Update longest message length.\n",
    "            self.longest = len(message)  \n",
    "\n",
    "def get_metric(scoring):\n",
    "    try:\n",
    "        metric = get_scorer(scoring)\n",
    "    except (KeyError, ValueError) as e:\n",
    "        try:\n",
    "            scorer = get_scorer('neg_'+scoring)\n",
    "            metric = lambda *args,**kwargs: -scorer(*args,**kwargs)\n",
    "        except (KeyError, ValueError) as e:\n",
    "            try:\n",
    "                scorer = get_scorer(scoring[4:])\n",
    "                metric = lambda *args,**kwargs: -scorer(*args,**kwargs)\n",
    "            except KeyError:\n",
    "                raise ValueError(\"Unrecognized sklearn metric\")\n",
    "    return metric\n",
    "\n",
    "def RandomSeedSearchCV(random_model_maker,X_train,y_train,N=50,\n",
    "                        validation=0.1,cv=5,scoring='mean_squared_error',\n",
    "                        plot_summary=True,shield_seed=True,verbose=True,\n",
    "                        random_state=None,**model_maker_kwargs):\n",
    "    '''\n",
    "             CAUTION: This function and many of its dependencies are in active development.\n",
    "    \n",
    "    Generalized random-search model tuner! Uses random seeds and user-made model-maker to search\n",
    "    through \"acceptable\" models and find those that achieve the best cross_validation score.\n",
    "    \n",
    "    This function is just a shell to execute the search. It doesn't know anything about the models\n",
    "    or the parameter space to search through; all of that is encapsulated in the user-provided model-making\n",
    "    function.\n",
    "    \n",
    "    INPUTS:\n",
    "      random_model_maker   - tl;dr, Function that takes integer and returns model. Returned model must implement\n",
    "                                     fit and predict methods, like standard sklearn estimators do.\n",
    "                                     \n",
    "                             This should be a function defined by the user ahead of time. The function should\n",
    "                             accept a random seed and then internally construct a model with randomly drawn \n",
    "                             hyperparameters. The idea behind this is to take responsibility off of the searcher\n",
    "                             and put it on the user-provided model-maker. randomseed_searchCV will never know \n",
    "                             what type of model you're fitting or what range of which parameters you're sampling.\n",
    "                             All it will know is that it can give random_model_maker an integer, and it will \n",
    "                             return a model that can be fit and used to predict.\n",
    "                             \n",
    "      **model_maker_kwargs - Any additional arguments to be passed to the model maker.\n",
    "                           \n",
    "      X_train,y_train      - Training data and labels.\n",
    "      validation           - Fraction to split off for validation testing. Default is 0.1. If None,False,0,or 1\n",
    "                              are provided, validation testing will not be done.\n",
    "      cv                   - Integer N for N-fold cross validation.\n",
    "      scoring              - Metric to use when ranking models.\n",
    "      plot_summary         - Boolean whether or not to produce a beautiful summary plot!\n",
    "      shield_seed          - Boolean whether or not to forcibly prevent the model maker from globally changing\n",
    "                             the numpy random seed.\n",
    "      verbose              - Boolean whether or not to show progress.\n",
    "      random_state         - Random state to use for splitting off validation dataset.\n",
    "    '''\n",
    "    \n",
    "    if verbose: progress = simple_progress()\n",
    "    \n",
    "    if shield_seed:\n",
    "        modmkr = preserve_state(random_model_maker)\n",
    "    else:\n",
    "        modmkr = random_model_maker\n",
    "    \n",
    "    '''\n",
    "    ## Temp ##\n",
    "    print(\"TESTING SHIELD:\")\n",
    "    np.random.seed(42)\n",
    "    n_dry = np.random.randint(1,10000)\n",
    "    print(\"    Dry run: %d\"%(n_dry))\n",
    "    np.random.seed(42)\n",
    "    modmkr(11)\n",
    "    n_wet = np.random.randint(1,10000)\n",
    "    print(\"    Wet run: %d\"%(n_wet))\n",
    "    if n_dry == n_wet:\n",
    "        print(\"  Shields are operative :)\")\n",
    "    else:\n",
    "        print(\"  Shields are down!! >:(\")\n",
    "    '''\n",
    "    \n",
    "    #Get metric callable from sklearn. L8r I'm gonna make it\n",
    "    # so the user can provide a callable metric themselves, because I\n",
    "    # don't like that sklearn uses negative mse instead of positive. It drives me bonkers.\n",
    "    metric = get_metric(scoring)\n",
    "    \n",
    "    #Split validation set out of the training set, if \n",
    "    if validation is None or validation==False or validation>=1 or validation <=0:\n",
    "        use_val = False\n",
    "        Xtra,ytra = X_train,y_train\n",
    "        Xval,yval = None,None\n",
    "    else:\n",
    "        use_val = True\n",
    "        Xtra,Xval,ytra,yval = train_test_split(X_train,y_train,\n",
    "                                               test_size=validation,\n",
    "                                               random_state=random_state)\n",
    "    \n",
    "    #Draw random seeds to use for model generation.\n",
    "    seeds = np.random.choice(10*N,N,replace=False)\n",
    "    \n",
    "    #Create empty lists to store model performance measures.\n",
    "    cv_scores = np.array([])\n",
    "    train_metric = np.array([])\n",
    "    valid_metric = np.array([])\n",
    "    times = np.array([])\n",
    "    \n",
    "    #For each model, find cv_score and metrics. Also store training time.\n",
    "    for i,seed in enumerate(seeds):\n",
    "        if verbose: progress.update(\"%d/%d: Seed = %d\"%(i+1,N,seed))\n",
    "        model = modmkr(seed,**model_maker_kwargs)\n",
    "        cv_score = np.mean(cross_val_score(model,Xtra,ytra,scoring=metric,cv=cv))\n",
    "        cv_scores = np.append(cv_scores,cv_score)\n",
    "        \n",
    "        start_time = time()\n",
    "        model.fit(Xtra,ytra)\n",
    "        train_metric = np.append(train_metric, metric(model,Xtra,ytra))\n",
    "        if use_val: valid_metric = np.append(valid_metric, metric(model,Xval,yval))\n",
    "        times = np.append(times, time()-start_time)\n",
    "\n",
    "    #Plot a summary when done.\n",
    "    if plot_summary:\n",
    "        fig,ax = plt.subplots()\n",
    "        scat = ax.scatter(train_metric,valid_metric,c=times,cmap='coolwarm',s=50)\n",
    "        cbar = fig.colorbar(scat,ax=ax)\n",
    "        ax.set_xlabel(\"Training Metric\")\n",
    "        ax.set_ylabel(\"Validation Metric\")\n",
    "        cbar.ax.set_ylabel(\"Training Time\")\n",
    "        mi,ma = 0,1.1*np.max([np.max(train_metric),np.max(valid_metric)])\n",
    "        ax.set_xlim(mi,ma)\n",
    "        ax.set_ylim(mi,ma)\n",
    "        ax.plot([mi,ma],[mi,ma],ls='--',color='black')\n",
    "    \n",
    "    sort = np.argsort(cv_scores)\n",
    "    return np.c_[seeds[sort],cv_scores[sort],train_metric[sort],valid_metric[sort],times[sort]]\n",
    "    "
   ]
  },
  {
   "cell_type": "code",
   "execution_count": 58,
   "metadata": {},
   "outputs": [
    {
     "data": {
      "text/plain": [
       "RandomForestRegressor(bootstrap=True, criterion='mse', max_depth=13,\n",
       "                      max_features=None, max_leaf_nodes=None,\n",
       "                      min_impurity_decrease=0.27670303270355356,\n",
       "                      min_impurity_split=None, min_samples_leaf=22,\n",
       "                      min_samples_split=11, min_weight_fraction_leaf=0.0,\n",
       "                      n_estimators=119, n_jobs=4, oob_score=False,\n",
       "                      random_state=None, verbose=0, warm_start=False)"
      ]
     },
     "execution_count": 58,
     "metadata": {},
     "output_type": "execute_result"
    }
   ],
   "source": [
    "#Here's a random model-maker for RandomForestRegressor. It only needs to be given a seed, and then it goes\n",
    "# and constructs a model with hyperparameters drawn from internally-defined probability distributions.\n",
    "\n",
    "def randomseed_rfr_maker(seed,\n",
    "         ne_lo=20, ne_hi=200,               # (1) n_estimators\n",
    "         md_lo =3, md_hi =15, md_Pnone=0.5, # (2) max_depth\n",
    "         mss_lo=2, mss_hi=50,               # (3) min_samples_split\n",
    "         msl_lo=2, msl_hi=25,               # (4) min_samples_leaf\n",
    "         mf_lo =3, mf_hi =15, mf_Pnone=0.3, # (5) max_features\n",
    "         mid_lo=0.,mid_hi=0.4,              # (6) min_impurity_decrease\n",
    "         n_jobs=4):\n",
    "    \n",
    "    #Set random seed.\n",
    "    np.random.seed(seed)\n",
    "    \n",
    "    # Randomly draw parameters and store in kwargs dictionary.\n",
    "    kwargs = {}\n",
    "    # (1) Draw n_estimators\n",
    "    kwargs['n_estimators'] = np.random.randint(ne_lo,ne_hi)\n",
    "    # (2) Draw max_depth\n",
    "    if np.random.uniform() < md_Pnone:\n",
    "        kwargs['max_depth'] = None\n",
    "    else:\n",
    "        kwargs['max_depth'] = np.random.randint(md_lo,md_hi)\n",
    "    # (3) Draw min_samples_split\n",
    "    kwargs['min_samples_split'] = np.random.randint(mss_lo,mss_hi)\n",
    "    # (3) Draw min_samples_leaf\n",
    "    kwargs['min_samples_leaf'] = np.random.randint(msl_lo,msl_hi)\n",
    "    # (5) Draw max_features\n",
    "    if np.random.uniform() < mf_Pnone:\n",
    "        kwargs['max_features'] = None\n",
    "    else:\n",
    "        kwargs['max_features'] = np.random.randint(mf_lo,mf_hi)\n",
    "    # (6) Draw min_impurity_decrease\n",
    "    kwargs['min_impurity_decrease'] = np.random.uniform(mid_lo,mid_hi)\n",
    "    #Set n_jobs\n",
    "    kwargs['n_jobs'] = n_jobs\n",
    "    \n",
    "    #Create the model!\n",
    "    model = RandomForestRegressor(**kwargs)\n",
    "    \n",
    "    return model\n",
    "\n",
    "#Example of a model drawn up from this model-maker.\n",
    "randomseed_rfr_maker(20)"
   ]
  },
  {
   "cell_type": "code",
   "execution_count": 59,
   "metadata": {},
   "outputs": [
    {
     "name": "stdout",
     "output_type": "stream",
     "text": [
      "[[2.77200000e+03 2.11822948e+00 1.95192346e+00 2.35069860e+00\n",
      "  7.52060890e-01]\n",
      " [7.12000000e+02 2.15781835e+00 1.96491945e+00 2.59733421e+00\n",
      "  1.35704350e+00]\n",
      " [2.78000000e+03 2.21575463e+00 2.06382285e+00 2.70967663e+00\n",
      "  1.26673269e+00]\n",
      " ...\n",
      " [1.20000000e+01 4.32911313e+00 4.35319646e+00 5.32979025e+00\n",
      "  4.59323645e-01]\n",
      " [1.91900000e+03 4.35018286e+00 4.31609295e+00 5.29856223e+00\n",
      "  4.38294888e-01]\n",
      " [5.30000000e+01 4.37209742e+00 4.27694099e+00 5.25519449e+00\n",
      "  3.43076229e-01]]\n"
     ]
    },
    {
     "data": {
      "image/png": "[encoded data removed]",
      "text/plain": [
       "<Figure size 432x288 with 2 Axes>"
      ]
     },
     "metadata": {
      "needs_background": "light"
     },
     "output_type": "display_data"
    },
    {
     "data": {
      "image/png": "[encoded data removed]",
      "text/plain": [
       "<Figure size 432x288 with 2 Axes>"
      ]
     },
     "metadata": {
      "needs_background": "light"
     },
     "output_type": "display_data"
    }
   ],
   "source": [
    "#Searching through RandomForestRegressor models.\n",
    "tbl = RandomSeedSearchCV(randomseed_rfr_maker,X_train,y_train,N=300,shield_seed=True,random_state=42)\n",
    "print(tbl)\n",
    "best_seed = int(tbl[0,0])\n",
    "best_model = randomseed_rfr_maker(best_seed)\n",
    "\n",
    "best_model.fit(X_train,y_train)\n",
    "y_pred = best_model.predict(X_test)\n",
    "scatter_predvreal(y_test,y_pred,colorby=X_test[:,0])"
   ]
  },
  {
   "cell_type": "code",
   "execution_count": 10,
   "metadata": {},
   "outputs": [
    {
     "name": "stdout",
     "output_type": "stream",
     "text": [
      "Test\r",
      "Testing\r",
      "burp\n"
     ]
    }
   ],
   "source": [
    "print(\"Test\",end=\"\\r\") #print with 'carriage return'.\n",
    "print(\"Testing\",end=\"\\r\")\n",
    "print(\"burp\")"
   ]
  }
 ],
 "metadata": {
  "kernelspec": {
   "display_name": "Python 3",
   "language": "python",
   "name": "python3"
  },
  "language_info": {
   "codemirror_mode": {
    "name": "ipython",
    "version": 3
   },
   "file_extension": ".py",
   "mimetype": "text/x-python",
   "name": "python",
   "nbconvert_exporter": "python",
   "pygments_lexer": "ipython3",
   "version": "3.7.4"
  }
 },
 "nbformat": 4,
 "nbformat_minor": 2
}
